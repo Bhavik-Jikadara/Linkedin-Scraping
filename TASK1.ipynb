{
 "cells": [
  {
   "cell_type": "markdown",
   "metadata": {},
   "source": [
    "## Scraping LinkedIn for Jobs posted by Companies\n",
    "* Author: Bhavik Jikadara"
   ]
  },
  {
   "cell_type": "code",
   "execution_count": 1,
   "metadata": {},
   "outputs": [],
   "source": [
    "# Import Libraries\n",
    "from selenium import webdriver\n",
    "import pandas as pd\n",
    "import warnings\n",
    "warnings.filterwarnings('ignore')\n",
    "\n",
    "DRIVER_PATH = 'C:/Selenium Driver/chromedriver'\n",
    "driver = webdriver.Chrome(executable_path=DRIVER_PATH)\n"
   ]
  },
  {
   "cell_type": "code",
   "execution_count": 5,
   "metadata": {},
   "outputs": [],
   "source": [
    "driver.get('https://www.careerguide.com/career-options')"
   ]
  },
  {
   "cell_type": "markdown",
   "metadata": {},
   "source": [
    "* Go to careerguide.com (or any other website of your choice where you can find job types). \n",
    "* Scrape Job types from there. Subcategories divided by Categories.\n",
    "* For eg:(Education->Tutor, Design and Art->Architect)\n",
    "* URL : https://www.careerguide.com/career-options\n"
   ]
  },
  {
   "cell_type": "code",
   "execution_count": 6,
   "metadata": {},
   "outputs": [],
   "source": [
    "categories = driver.find_elements_by_tag_name('h2')\n",
    "\n",
    "categories_list = []\n",
    "for c in range(len(categories)):\n",
    "    categories_list.append(categories[c].text)"
   ]
  },
  {
   "cell_type": "markdown",
   "metadata": {},
   "source": [
    "## Categories"
   ]
  },
  {
   "cell_type": "code",
   "execution_count": 7,
   "metadata": {},
   "outputs": [
    {
     "data": {
      "text/html": [
       "<div>\n",
       "<style scoped>\n",
       "    .dataframe tbody tr th:only-of-type {\n",
       "        vertical-align: middle;\n",
       "    }\n",
       "\n",
       "    .dataframe tbody tr th {\n",
       "        vertical-align: top;\n",
       "    }\n",
       "\n",
       "    .dataframe thead th {\n",
       "        text-align: right;\n",
       "    }\n",
       "</style>\n",
       "<table border=\"1\" class=\"dataframe\">\n",
       "  <thead>\n",
       "    <tr style=\"text-align: right;\">\n",
       "      <th></th>\n",
       "      <th>Categories</th>\n",
       "    </tr>\n",
       "  </thead>\n",
       "  <tbody>\n",
       "    <tr>\n",
       "      <th>0</th>\n",
       "      <td>Aerospace &amp; Aviation</td>\n",
       "    </tr>\n",
       "    <tr>\n",
       "      <th>1</th>\n",
       "      <td>Agriculture</td>\n",
       "    </tr>\n",
       "    <tr>\n",
       "      <th>2</th>\n",
       "      <td>Automobile / Autocomponents</td>\n",
       "    </tr>\n",
       "    <tr>\n",
       "      <th>3</th>\n",
       "      <td>Banking / Insurance &amp; Finance</td>\n",
       "    </tr>\n",
       "    <tr>\n",
       "      <th>4</th>\n",
       "      <td>Beauty &amp; Wellness Industry</td>\n",
       "    </tr>\n",
       "    <tr>\n",
       "      <th>5</th>\n",
       "      <td>Building &amp; Construction</td>\n",
       "    </tr>\n",
       "    <tr>\n",
       "      <th>6</th>\n",
       "      <td>Building / Hardware &amp; Home Furnishings</td>\n",
       "    </tr>\n",
       "    <tr>\n",
       "      <th>7</th>\n",
       "      <td>Chemicals &amp; Pharmaceuticals</td>\n",
       "    </tr>\n",
       "    <tr>\n",
       "      <th>8</th>\n",
       "      <td>Commerce or Humanities Stream</td>\n",
       "    </tr>\n",
       "    <tr>\n",
       "      <th>9</th>\n",
       "      <td>Defense &amp; Military</td>\n",
       "    </tr>\n",
       "    <tr>\n",
       "      <th>10</th>\n",
       "      <td>Designing &amp; Art</td>\n",
       "    </tr>\n",
       "    <tr>\n",
       "      <th>11</th>\n",
       "      <td>Education / Skill Development</td>\n",
       "    </tr>\n",
       "    <tr>\n",
       "      <th>12</th>\n",
       "      <td>Electronics &amp; Hardware</td>\n",
       "    </tr>\n",
       "    <tr>\n",
       "      <th>13</th>\n",
       "      <td>Emergency Services</td>\n",
       "    </tr>\n",
       "    <tr>\n",
       "      <th>14</th>\n",
       "      <td>Engineering &amp; Technology</td>\n",
       "    </tr>\n",
       "    <tr>\n",
       "      <th>15</th>\n",
       "      <td>Exams and Syllabus</td>\n",
       "    </tr>\n",
       "    <tr>\n",
       "      <th>16</th>\n",
       "      <td>Food Processing</td>\n",
       "    </tr>\n",
       "    <tr>\n",
       "      <th>17</th>\n",
       "      <td>Gems &amp; Jewellery</td>\n",
       "    </tr>\n",
       "    <tr>\n",
       "      <th>18</th>\n",
       "      <td>Handlooms &amp; Handicrafts</td>\n",
       "    </tr>\n",
       "    <tr>\n",
       "      <th>19</th>\n",
       "      <td>Healthcare</td>\n",
       "    </tr>\n",
       "    <tr>\n",
       "      <th>20</th>\n",
       "      <td>Humanistic Studies</td>\n",
       "    </tr>\n",
       "    <tr>\n",
       "      <th>21</th>\n",
       "      <td>Information Technology / Software</td>\n",
       "    </tr>\n",
       "    <tr>\n",
       "      <th>22</th>\n",
       "      <td>Institutes in India</td>\n",
       "    </tr>\n",
       "    <tr>\n",
       "      <th>23</th>\n",
       "      <td>ITES / BPO</td>\n",
       "    </tr>\n",
       "    <tr>\n",
       "      <th>24</th>\n",
       "      <td>Law &amp; Order</td>\n",
       "    </tr>\n",
       "    <tr>\n",
       "      <th>25</th>\n",
       "      <td>Leather &amp; Leather Goods</td>\n",
       "    </tr>\n",
       "    <tr>\n",
       "      <th>26</th>\n",
       "      <td>Management &amp; Marketing</td>\n",
       "    </tr>\n",
       "    <tr>\n",
       "      <th>27</th>\n",
       "      <td>Media / Entertainment &amp; Animation</td>\n",
       "    </tr>\n",
       "    <tr>\n",
       "      <th>28</th>\n",
       "      <td>Organised Retail</td>\n",
       "    </tr>\n",
       "    <tr>\n",
       "      <th>29</th>\n",
       "      <td>Psychometric Career Test</td>\n",
       "    </tr>\n",
       "    <tr>\n",
       "      <th>30</th>\n",
       "      <td>Public Admin &amp; Government</td>\n",
       "    </tr>\n",
       "    <tr>\n",
       "      <th>31</th>\n",
       "      <td>Real Estate</td>\n",
       "    </tr>\n",
       "    <tr>\n",
       "      <th>32</th>\n",
       "      <td>Science &amp; Research</td>\n",
       "    </tr>\n",
       "    <tr>\n",
       "      <th>33</th>\n",
       "      <td>Sports</td>\n",
       "    </tr>\n",
       "    <tr>\n",
       "      <th>34</th>\n",
       "      <td>Study Abroad</td>\n",
       "    </tr>\n",
       "    <tr>\n",
       "      <th>35</th>\n",
       "      <td>Telecom</td>\n",
       "    </tr>\n",
       "    <tr>\n",
       "      <th>36</th>\n",
       "      <td>Textiles &amp; Garments</td>\n",
       "    </tr>\n",
       "    <tr>\n",
       "      <th>37</th>\n",
       "      <td>Tourism / Hospitality &amp; Travel</td>\n",
       "    </tr>\n",
       "    <tr>\n",
       "      <th>38</th>\n",
       "      <td>Transportation/Logistics/Warehousing &amp; Packaging</td>\n",
       "    </tr>\n",
       "  </tbody>\n",
       "</table>\n",
       "</div>"
      ],
      "text/plain": [
       "                                          Categories\n",
       "0                               Aerospace & Aviation\n",
       "1                                        Agriculture\n",
       "2                        Automobile / Autocomponents\n",
       "3                      Banking / Insurance & Finance\n",
       "4                         Beauty & Wellness Industry\n",
       "5                            Building & Construction\n",
       "6             Building / Hardware & Home Furnishings\n",
       "7                        Chemicals & Pharmaceuticals\n",
       "8                      Commerce or Humanities Stream\n",
       "9                                 Defense & Military\n",
       "10                                   Designing & Art\n",
       "11                     Education / Skill Development\n",
       "12                            Electronics & Hardware\n",
       "13                                Emergency Services\n",
       "14                          Engineering & Technology\n",
       "15                                Exams and Syllabus\n",
       "16                                   Food Processing\n",
       "17                                  Gems & Jewellery\n",
       "18                           Handlooms & Handicrafts\n",
       "19                                        Healthcare\n",
       "20                                Humanistic Studies\n",
       "21                 Information Technology / Software\n",
       "22                               Institutes in India\n",
       "23                                        ITES / BPO\n",
       "24                                       Law & Order\n",
       "25                           Leather & Leather Goods\n",
       "26                            Management & Marketing\n",
       "27                 Media / Entertainment & Animation\n",
       "28                                  Organised Retail\n",
       "29                          Psychometric Career Test\n",
       "30                         Public Admin & Government\n",
       "31                                       Real Estate\n",
       "32                                Science & Research\n",
       "33                                            Sports\n",
       "34                                      Study Abroad\n",
       "35                                           Telecom\n",
       "36                               Textiles & Garments\n",
       "37                    Tourism / Hospitality & Travel\n",
       "38  Transportation/Logistics/Warehousing & Packaging"
      ]
     },
     "execution_count": 7,
     "metadata": {},
     "output_type": "execute_result"
    }
   ],
   "source": [
    "data = pd.DataFrame(categories_list, columns=['Categories'])\n",
    "data"
   ]
  },
  {
   "cell_type": "markdown",
   "metadata": {},
   "source": [
    "### Sub Categories"
   ]
  },
  {
   "cell_type": "code",
   "execution_count": 10,
   "metadata": {},
   "outputs": [],
   "source": [
    "sub_categories = driver.find_elements_by_tag_name('li')\n",
    "\n",
    "sub_categories_data = []\n",
    "for sub_c in range(len(sub_categories)):\n",
    "    sub_categories_data.append(sub_categories[sub_c].text)\n",
    "sub_categories_data"
   ]
  },
  {
   "cell_type": "code",
   "execution_count": 12,
   "metadata": {},
   "outputs": [],
   "source": [
    "data = pd.DataFrame(sub_categories_data, columns=['Sub Categories'])\n",
    "data[100:105]"
   ]
  },
  {
   "cell_type": "markdown",
   "metadata": {},
   "source": [
    "* Then you have to go to LinkedIn and scrape the jobs from there under the category you scraped from caeerguide which will be under a state \n",
    "(State -> category of job -> job)\n",
    "* You will have to scrape 3 things from the job:\n",
    "    * Job position (e.g.: Analyst, Software Engineer)\n",
    "    * Company offering the Job\n",
    "    * Location of the Job (City or remote)\n"
   ]
  },
  {
   "cell_type": "code",
   "execution_count": 13,
   "metadata": {},
   "outputs": [],
   "source": [
    "# Go to linkedin and login\n",
    "driver.get('https://www.linkedin.com/login')"
   ]
  },
  {
   "cell_type": "code",
   "execution_count": 18,
   "metadata": {},
   "outputs": [],
   "source": [
    "# Go to linkedin and login\n",
    "driver.get('https://www.linkedin.com/')\n",
    "driver.maximize_window()\n",
    "# your secret credentials:\n",
    "username = driver.find_element_by_id(\"session_key\")\n",
    "username.send_keys(\"ABbc@gmail.com\")\n",
    "password = driver.find_element_by_id(\"session_password\")\n",
    "password.send_keys(\"Aba@456\")\n",
    "#submit Details\n",
    "login_button = driver.find_element_by_class_name(\"sign-in-form__submit-button\")\n",
    "login_button.click()\n",
    "driver.get(\"https://www.linkedin.com/jobs/search/?currentJobId=2974348409\")"
   ]
  },
  {
   "cell_type": "code",
   "execution_count": 19,
   "metadata": {},
   "outputs": [],
   "source": [
    "#Scroll Web page\n",
    "driver.execute_script(\"window.scrollBy(0,document.body.scrollHeight)\")"
   ]
  },
  {
   "cell_type": "code",
   "execution_count": 20,
   "metadata": {},
   "outputs": [
    {
     "name": "stdout",
     "output_type": "stream",
     "text": [
      "['Blockchain Developer', 'Data Science Intern', 'Data Science Student Intern', 'Data Analysis and Research Intern', 'Python Developer Intern', 'Data Science Intern', 'Python Django Development Program']\n",
      "\n",
      "7\n"
     ]
    }
   ],
   "source": [
    "#Scrape JOBS\n",
    "job_title = []\n",
    "job9 = driver.find_elements_by_class_name(\"job-card-list__title\")\n",
    "for i in job9:\n",
    "    job_title.append(i.text)\n",
    "print(job_title)\n",
    "print()\n",
    "print(len(job_title))"
   ]
  },
  {
   "cell_type": "code",
   "execution_count": 21,
   "metadata": {},
   "outputs": [
    {
     "name": "stdout",
     "output_type": "stream",
     "text": [
      "['Reflective AI', 'Corizo', 'Corizo', 'Mumbai Angels Network', 'RecruitNXT', 'Corizo', 'Growth Central VC']\n",
      "\n",
      "7\n"
     ]
    }
   ],
   "source": [
    "#SCRAPE COMPANY NAME\n",
    "comp_name = []\n",
    "job2 = driver.find_elements_by_class_name(\"job-card-container__company-name\")     \n",
    "for i in job2:\n",
    "    comp_name.append(i.text)\n",
    "print(comp_name)\n",
    "print()\n",
    "print(len(comp_name))"
   ]
  },
  {
   "cell_type": "markdown",
   "metadata": {},
   "source": [
    "### Located"
   ]
  },
  {
   "cell_type": "code",
   "execution_count": 22,
   "metadata": {},
   "outputs": [
    {
     "name": "stdout",
     "output_type": "stream",
     "text": [
      "['India', 'Remote', 'India', 'Remote', 'Bangalore Urban, Karnataka, India', 'Remote', 'Mumbai, Maharashtra, India', 'Hybrid', 'Delhi, India', 'Remote', 'Bangalore Urban, Karnataka, India', 'Remote', 'India', 'Remote']\n",
      "\n",
      "14\n"
     ]
    }
   ],
   "source": [
    "#SCRAPE JOB LOCATION\n",
    "loc_name = []\n",
    "job3 = driver.find_elements_by_class_name(\"job-card-container__metadata-item\")\n",
    "for i in job3:\n",
    "    loc_name.append(i.text)\n",
    "print(loc_name)\n",
    "print()\n",
    "print(len(loc_name))"
   ]
  },
  {
   "cell_type": "markdown",
   "metadata": {},
   "source": [
    "### Description"
   ]
  },
  {
   "cell_type": "code",
   "execution_count": 24,
   "metadata": {},
   "outputs": [
    {
     "name": "stdout",
     "output_type": "stream",
     "text": [
      "['It gives me immense pleasure to introduce ourselves as one of the top leading and emerging edtech platforms in India with our head office in Bangalore.']\n",
      "\n"
     ]
    }
   ],
   "source": [
    "#Scrape for Descriptin of Company\n",
    "description = []\n",
    "job5 = driver.find_elements_by_xpath(\"(//*[@id='job-details']/span/p[4])\")\n",
    "for i in job5:\n",
    "    description.append(i.text)\n",
    "print(description)\n",
    "print()"
   ]
  },
  {
   "cell_type": "code",
   "execution_count": 25,
   "metadata": {},
   "outputs": [
    {
     "name": "stdout",
     "output_type": "stream",
     "text": [
      "            Company Name                          Job Title  \\\n",
      "0          Reflective AI               Blockchain Developer   \n",
      "1                 Corizo                Data Science Intern   \n",
      "2                 Corizo        Data Science Student Intern   \n",
      "3  Mumbai Angels Network  Data Analysis and Research Intern   \n",
      "4             RecruitNXT            Python Developer Intern   \n",
      "5                 Corizo                Data Science Intern   \n",
      "6      Growth Central VC  Python Django Development Program   \n",
      "\n",
      "                            Location  \n",
      "0                              India  \n",
      "1                             Remote  \n",
      "2                              India  \n",
      "3                             Remote  \n",
      "4  Bangalore Urban, Karnataka, India  \n",
      "5                             Remote  \n",
      "6         Mumbai, Maharashtra, India  \n"
     ]
    }
   ],
   "source": [
    "col = [\"Company Name\",\"Job Title\",\"Location\",\"Employee\",\"Description\"]\n",
    "df = pd.DataFrame({\"Company Name\":comp_name[slice(7)], \"Job Title\":job_title[slice(7)], \"Location\":loc_name[slice(7)]})\n",
    "df.head()\n",
    "df.to_csv(\"linkedin_scraping_Job.csv\")\n",
    "print(df)"
   ]
  },
  {
   "cell_type": "code",
   "execution_count": null,
   "metadata": {},
   "outputs": [],
   "source": []
  }
 ],
 "metadata": {
  "interpreter": {
   "hash": "3493f2f7deba3aca905526d6a293108d143469a55215d28c46da96f9e219d05e"
  },
  "kernelspec": {
   "display_name": "Machine Learning (ipykernel)",
   "language": "python",
   "name": "ml"
  },
  "language_info": {
   "codemirror_mode": {
    "name": "ipython",
    "version": 3
   },
   "file_extension": ".py",
   "mimetype": "text/x-python",
   "name": "python",
   "nbconvert_exporter": "python",
   "pygments_lexer": "ipython3",
   "version": "3.9.7"
  }
 },
 "nbformat": 4,
 "nbformat_minor": 2
}
